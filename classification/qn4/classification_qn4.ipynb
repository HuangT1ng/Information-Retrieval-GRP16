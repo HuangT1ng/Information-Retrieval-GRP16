{
 "cells": [
  {
   "cell_type": "markdown",
   "id": "278221e9",
   "metadata": {},
   "source": [
    "# Classification"
   ]
  },
  {
   "cell_type": "markdown",
   "id": "dfc2663d",
   "metadata": {},
   "source": [
    "### Data Exploration"
   ]
  },
  {
   "cell_type": "markdown",
   "id": "196a825c",
   "metadata": {},
   "source": [
    "Load data"
   ]
  },
  {
   "cell_type": "code",
   "execution_count": 1,
   "id": "0600433a",
   "metadata": {},
   "outputs": [
    {
     "data": {
      "text/plain": [
       "(226725, 10)"
      ]
     },
     "execution_count": 1,
     "metadata": {},
     "output_type": "execute_result"
    }
   ],
   "source": [
    "import pandas as pd\n",
    "\n",
    "# Load JSON data file\n",
    "df = pd.read_json(\"data/electronics_reviews.json\", lines=True)\n",
    "df.shape"
   ]
  },
  {
   "cell_type": "markdown",
   "id": "0407b611",
   "metadata": {},
   "source": [
    "Preview Data"
   ]
  },
  {
   "cell_type": "code",
   "execution_count": 2,
   "id": "84451811",
   "metadata": {},
   "outputs": [
    {
     "data": {
      "text/html": [
       "<div>\n",
       "<style scoped>\n",
       "    .dataframe tbody tr th:only-of-type {\n",
       "        vertical-align: middle;\n",
       "    }\n",
       "\n",
       "    .dataframe tbody tr th {\n",
       "        vertical-align: top;\n",
       "    }\n",
       "\n",
       "    .dataframe thead th {\n",
       "        text-align: right;\n",
       "    }\n",
       "</style>\n",
       "<table border=\"1\" class=\"dataframe\">\n",
       "  <thead>\n",
       "    <tr style=\"text-align: right;\">\n",
       "      <th></th>\n",
       "      <th>rating</th>\n",
       "      <th>title</th>\n",
       "      <th>text</th>\n",
       "      <th>images</th>\n",
       "      <th>asin</th>\n",
       "      <th>parent_asin</th>\n",
       "      <th>user_id</th>\n",
       "      <th>timestamp</th>\n",
       "      <th>helpful_vote</th>\n",
       "      <th>verified_purchase</th>\n",
       "    </tr>\n",
       "  </thead>\n",
       "  <tbody>\n",
       "    <tr>\n",
       "      <th>0</th>\n",
       "      <td>5</td>\n",
       "      <td>Wow</td>\n",
       "      <td>This is awesome!!! Staying in RV for 2 months ...</td>\n",
       "      <td>[]</td>\n",
       "      <td>B07YNLBS7R</td>\n",
       "      <td>B08F9ZCTCL</td>\n",
       "      <td>AHX4XWVVQUKT3FCNWCVASDF4Q56Q</td>\n",
       "      <td>2023-01-13 13:23:49.196</td>\n",
       "      <td>0</td>\n",
       "      <td>True</td>\n",
       "    </tr>\n",
       "    <tr>\n",
       "      <th>1</th>\n",
       "      <td>5</td>\n",
       "      <td>micro memory card for samsung phones</td>\n",
       "      <td>This memory card is a must have if you have a ...</td>\n",
       "      <td>[]</td>\n",
       "      <td>B08KSG2JMV</td>\n",
       "      <td>B08KSG2JMV</td>\n",
       "      <td>AFZUK3MTBIBEDQOPAK3OATUOUKLA</td>\n",
       "      <td>2023-01-13 23:52:49.320</td>\n",
       "      <td>2</td>\n",
       "      <td>True</td>\n",
       "    </tr>\n",
       "    <tr>\n",
       "      <th>2</th>\n",
       "      <td>5</td>\n",
       "      <td>Echo dot 3rd gen</td>\n",
       "      <td>I use my Echo dot (3rd gen 2018 release) in my...</td>\n",
       "      <td>[]</td>\n",
       "      <td>B07FZ8S74R</td>\n",
       "      <td>B07H65KP63</td>\n",
       "      <td>AFZUK3MTBIBEDQOPAK3OATUOUKLA</td>\n",
       "      <td>2023-01-09 18:29:43.584</td>\n",
       "      <td>33</td>\n",
       "      <td>True</td>\n",
       "    </tr>\n",
       "    <tr>\n",
       "      <th>3</th>\n",
       "      <td>4</td>\n",
       "      <td>Echo dot holder, bird nest</td>\n",
       "      <td>I had a really cute black owl for my old echo ...</td>\n",
       "      <td>[]</td>\n",
       "      <td>B08TBDBQ1C</td>\n",
       "      <td>B08TBDBQ1C</td>\n",
       "      <td>AFZUK3MTBIBEDQOPAK3OATUOUKLA</td>\n",
       "      <td>2023-01-09 17:56:48.981</td>\n",
       "      <td>0</td>\n",
       "      <td>True</td>\n",
       "    </tr>\n",
       "    <tr>\n",
       "      <th>4</th>\n",
       "      <td>5</td>\n",
       "      <td>Emergency radio with handcrank and solar charging</td>\n",
       "      <td>I purchased this for our survival kit - it's g...</td>\n",
       "      <td>[]</td>\n",
       "      <td>B085ZX6TCR</td>\n",
       "      <td>B0BC87S9SY</td>\n",
       "      <td>AFZUK3MTBIBEDQOPAK3OATUOUKLA</td>\n",
       "      <td>2023-01-01 00:38:53.148</td>\n",
       "      <td>20</td>\n",
       "      <td>True</td>\n",
       "    </tr>\n",
       "  </tbody>\n",
       "</table>\n",
       "</div>"
      ],
      "text/plain": [
       "   rating                                              title  \\\n",
       "0       5                                                Wow   \n",
       "1       5               micro memory card for samsung phones   \n",
       "2       5                                   Echo dot 3rd gen   \n",
       "3       4                         Echo dot holder, bird nest   \n",
       "4       5  Emergency radio with handcrank and solar charging   \n",
       "\n",
       "                                                text images        asin  \\\n",
       "0  This is awesome!!! Staying in RV for 2 months ...     []  B07YNLBS7R   \n",
       "1  This memory card is a must have if you have a ...     []  B08KSG2JMV   \n",
       "2  I use my Echo dot (3rd gen 2018 release) in my...     []  B07FZ8S74R   \n",
       "3  I had a really cute black owl for my old echo ...     []  B08TBDBQ1C   \n",
       "4  I purchased this for our survival kit - it's g...     []  B085ZX6TCR   \n",
       "\n",
       "  parent_asin                       user_id               timestamp  \\\n",
       "0  B08F9ZCTCL  AHX4XWVVQUKT3FCNWCVASDF4Q56Q 2023-01-13 13:23:49.196   \n",
       "1  B08KSG2JMV  AFZUK3MTBIBEDQOPAK3OATUOUKLA 2023-01-13 23:52:49.320   \n",
       "2  B07H65KP63  AFZUK3MTBIBEDQOPAK3OATUOUKLA 2023-01-09 18:29:43.584   \n",
       "3  B08TBDBQ1C  AFZUK3MTBIBEDQOPAK3OATUOUKLA 2023-01-09 17:56:48.981   \n",
       "4  B0BC87S9SY  AFZUK3MTBIBEDQOPAK3OATUOUKLA 2023-01-01 00:38:53.148   \n",
       "\n",
       "   helpful_vote  verified_purchase  \n",
       "0             0               True  \n",
       "1             2               True  \n",
       "2            33               True  \n",
       "3             0               True  \n",
       "4            20               True  "
      ]
     },
     "execution_count": 2,
     "metadata": {},
     "output_type": "execute_result"
    }
   ],
   "source": [
    "df.head()"
   ]
  },
  {
   "cell_type": "markdown",
   "id": "ebabfee8",
   "metadata": {},
   "source": [
    "Statistical Summary"
   ]
  },
  {
   "cell_type": "code",
   "execution_count": 3,
   "id": "ed4b9f38",
   "metadata": {},
   "outputs": [
    {
     "name": "stdout",
     "output_type": "stream",
     "text": [
      "<class 'pandas.core.frame.DataFrame'>\n",
      "RangeIndex: 226725 entries, 0 to 226724\n",
      "Data columns (total 10 columns):\n",
      " #   Column             Non-Null Count   Dtype         \n",
      "---  ------             --------------   -----         \n",
      " 0   rating             226725 non-null  int64         \n",
      " 1   title              226725 non-null  object        \n",
      " 2   text               226725 non-null  object        \n",
      " 3   images             226725 non-null  object        \n",
      " 4   asin               226725 non-null  object        \n",
      " 5   parent_asin        226725 non-null  object        \n",
      " 6   user_id            226725 non-null  object        \n",
      " 7   timestamp          226725 non-null  datetime64[ns]\n",
      " 8   helpful_vote       226725 non-null  int64         \n",
      " 9   verified_purchase  226725 non-null  bool          \n",
      "dtypes: bool(1), datetime64[ns](1), int64(2), object(6)\n",
      "memory usage: 15.8+ MB\n"
     ]
    },
    {
     "data": {
      "text/html": [
       "<div>\n",
       "<style scoped>\n",
       "    .dataframe tbody tr th:only-of-type {\n",
       "        vertical-align: middle;\n",
       "    }\n",
       "\n",
       "    .dataframe tbody tr th {\n",
       "        vertical-align: top;\n",
       "    }\n",
       "\n",
       "    .dataframe thead th {\n",
       "        text-align: right;\n",
       "    }\n",
       "</style>\n",
       "<table border=\"1\" class=\"dataframe\">\n",
       "  <thead>\n",
       "    <tr style=\"text-align: right;\">\n",
       "      <th></th>\n",
       "      <th>rating</th>\n",
       "      <th>title</th>\n",
       "      <th>text</th>\n",
       "      <th>images</th>\n",
       "      <th>asin</th>\n",
       "      <th>parent_asin</th>\n",
       "      <th>user_id</th>\n",
       "      <th>timestamp</th>\n",
       "      <th>helpful_vote</th>\n",
       "      <th>verified_purchase</th>\n",
       "    </tr>\n",
       "  </thead>\n",
       "  <tbody>\n",
       "    <tr>\n",
       "      <th>count</th>\n",
       "      <td>226725.000000</td>\n",
       "      <td>226725</td>\n",
       "      <td>226725</td>\n",
       "      <td>226725</td>\n",
       "      <td>226725</td>\n",
       "      <td>226725</td>\n",
       "      <td>226725</td>\n",
       "      <td>226725</td>\n",
       "      <td>226725.000000</td>\n",
       "      <td>226725</td>\n",
       "    </tr>\n",
       "    <tr>\n",
       "      <th>unique</th>\n",
       "      <td>NaN</td>\n",
       "      <td>152723</td>\n",
       "      <td>213552</td>\n",
       "      <td>22425</td>\n",
       "      <td>92947</td>\n",
       "      <td>72525</td>\n",
       "      <td>180585</td>\n",
       "      <td>NaN</td>\n",
       "      <td>NaN</td>\n",
       "      <td>2</td>\n",
       "    </tr>\n",
       "    <tr>\n",
       "      <th>top</th>\n",
       "      <td>NaN</td>\n",
       "      <td>Great product</td>\n",
       "      <td></td>\n",
       "      <td>[]</td>\n",
       "      <td>B0B9RJ68BV</td>\n",
       "      <td>B0BZ6XH3LC</td>\n",
       "      <td>AGH5ZCKJNRAZ7L7TOHMV35GMF2SQ</td>\n",
       "      <td>NaN</td>\n",
       "      <td>NaN</td>\n",
       "      <td>True</td>\n",
       "    </tr>\n",
       "    <tr>\n",
       "      <th>freq</th>\n",
       "      <td>NaN</td>\n",
       "      <td>1437</td>\n",
       "      <td>1038</td>\n",
       "      <td>203937</td>\n",
       "      <td>1090</td>\n",
       "      <td>1090</td>\n",
       "      <td>69</td>\n",
       "      <td>NaN</td>\n",
       "      <td>NaN</td>\n",
       "      <td>198294</td>\n",
       "    </tr>\n",
       "    <tr>\n",
       "      <th>mean</th>\n",
       "      <td>4.098719</td>\n",
       "      <td>NaN</td>\n",
       "      <td>NaN</td>\n",
       "      <td>NaN</td>\n",
       "      <td>NaN</td>\n",
       "      <td>NaN</td>\n",
       "      <td>NaN</td>\n",
       "      <td>2023-01-08 04:09:58.443232512</td>\n",
       "      <td>0.546455</td>\n",
       "      <td>NaN</td>\n",
       "    </tr>\n",
       "    <tr>\n",
       "      <th>min</th>\n",
       "      <td>1.000000</td>\n",
       "      <td>NaN</td>\n",
       "      <td>NaN</td>\n",
       "      <td>NaN</td>\n",
       "      <td>NaN</td>\n",
       "      <td>NaN</td>\n",
       "      <td>NaN</td>\n",
       "      <td>2023-01-01 00:00:06.616000</td>\n",
       "      <td>0.000000</td>\n",
       "      <td>NaN</td>\n",
       "    </tr>\n",
       "    <tr>\n",
       "      <th>25%</th>\n",
       "      <td>4.000000</td>\n",
       "      <td>NaN</td>\n",
       "      <td>NaN</td>\n",
       "      <td>NaN</td>\n",
       "      <td>NaN</td>\n",
       "      <td>NaN</td>\n",
       "      <td>NaN</td>\n",
       "      <td>2023-01-04 19:33:53.262000128</td>\n",
       "      <td>0.000000</td>\n",
       "      <td>NaN</td>\n",
       "    </tr>\n",
       "    <tr>\n",
       "      <th>50%</th>\n",
       "      <td>5.000000</td>\n",
       "      <td>NaN</td>\n",
       "      <td>NaN</td>\n",
       "      <td>NaN</td>\n",
       "      <td>NaN</td>\n",
       "      <td>NaN</td>\n",
       "      <td>NaN</td>\n",
       "      <td>2023-01-08 01:54:55.747000064</td>\n",
       "      <td>0.000000</td>\n",
       "      <td>NaN</td>\n",
       "    </tr>\n",
       "    <tr>\n",
       "      <th>75%</th>\n",
       "      <td>5.000000</td>\n",
       "      <td>NaN</td>\n",
       "      <td>NaN</td>\n",
       "      <td>NaN</td>\n",
       "      <td>NaN</td>\n",
       "      <td>NaN</td>\n",
       "      <td>NaN</td>\n",
       "      <td>2023-01-11 16:17:37.343000064</td>\n",
       "      <td>0.000000</td>\n",
       "      <td>NaN</td>\n",
       "    </tr>\n",
       "    <tr>\n",
       "      <th>max</th>\n",
       "      <td>5.000000</td>\n",
       "      <td>NaN</td>\n",
       "      <td>NaN</td>\n",
       "      <td>NaN</td>\n",
       "      <td>NaN</td>\n",
       "      <td>NaN</td>\n",
       "      <td>NaN</td>\n",
       "      <td>2023-01-14 23:59:52.597000</td>\n",
       "      <td>877.000000</td>\n",
       "      <td>NaN</td>\n",
       "    </tr>\n",
       "    <tr>\n",
       "      <th>std</th>\n",
       "      <td>1.434097</td>\n",
       "      <td>NaN</td>\n",
       "      <td>NaN</td>\n",
       "      <td>NaN</td>\n",
       "      <td>NaN</td>\n",
       "      <td>NaN</td>\n",
       "      <td>NaN</td>\n",
       "      <td>NaN</td>\n",
       "      <td>3.674981</td>\n",
       "      <td>NaN</td>\n",
       "    </tr>\n",
       "  </tbody>\n",
       "</table>\n",
       "</div>"
      ],
      "text/plain": [
       "               rating          title    text  images        asin parent_asin  \\\n",
       "count   226725.000000         226725  226725  226725      226725      226725   \n",
       "unique            NaN         152723  213552   22425       92947       72525   \n",
       "top               NaN  Great product              []  B0B9RJ68BV  B0BZ6XH3LC   \n",
       "freq              NaN           1437    1038  203937        1090        1090   \n",
       "mean         4.098719            NaN     NaN     NaN         NaN         NaN   \n",
       "min          1.000000            NaN     NaN     NaN         NaN         NaN   \n",
       "25%          4.000000            NaN     NaN     NaN         NaN         NaN   \n",
       "50%          5.000000            NaN     NaN     NaN         NaN         NaN   \n",
       "75%          5.000000            NaN     NaN     NaN         NaN         NaN   \n",
       "max          5.000000            NaN     NaN     NaN         NaN         NaN   \n",
       "std          1.434097            NaN     NaN     NaN         NaN         NaN   \n",
       "\n",
       "                             user_id                      timestamp  \\\n",
       "count                         226725                         226725   \n",
       "unique                        180585                            NaN   \n",
       "top     AGH5ZCKJNRAZ7L7TOHMV35GMF2SQ                            NaN   \n",
       "freq                              69                            NaN   \n",
       "mean                             NaN  2023-01-08 04:09:58.443232512   \n",
       "min                              NaN     2023-01-01 00:00:06.616000   \n",
       "25%                              NaN  2023-01-04 19:33:53.262000128   \n",
       "50%                              NaN  2023-01-08 01:54:55.747000064   \n",
       "75%                              NaN  2023-01-11 16:17:37.343000064   \n",
       "max                              NaN     2023-01-14 23:59:52.597000   \n",
       "std                              NaN                            NaN   \n",
       "\n",
       "         helpful_vote verified_purchase  \n",
       "count   226725.000000            226725  \n",
       "unique            NaN                 2  \n",
       "top               NaN              True  \n",
       "freq              NaN            198294  \n",
       "mean         0.546455               NaN  \n",
       "min          0.000000               NaN  \n",
       "25%          0.000000               NaN  \n",
       "50%          0.000000               NaN  \n",
       "75%          0.000000               NaN  \n",
       "max        877.000000               NaN  \n",
       "std          3.674981               NaN  "
      ]
     },
     "execution_count": 3,
     "metadata": {},
     "output_type": "execute_result"
    }
   ],
   "source": [
    "df.info()\n",
    "df.describe(include='all')"
   ]
  },
  {
   "cell_type": "markdown",
   "id": "579317ff",
   "metadata": {},
   "source": [
    "Missing values analysis"
   ]
  },
  {
   "cell_type": "code",
   "execution_count": 4,
   "id": "48b1b258",
   "metadata": {},
   "outputs": [
    {
     "data": {
      "text/plain": [
       "rating               0\n",
       "title                0\n",
       "text                 0\n",
       "images               0\n",
       "asin                 0\n",
       "parent_asin          0\n",
       "user_id              0\n",
       "timestamp            0\n",
       "helpful_vote         0\n",
       "verified_purchase    0\n",
       "dtype: int64"
      ]
     },
     "execution_count": 4,
     "metadata": {},
     "output_type": "execute_result"
    }
   ],
   "source": [
    "df.isnull().sum()"
   ]
  },
  {
   "cell_type": "markdown",
   "id": "6dafb72b",
   "metadata": {},
   "source": [
    "There are no missing values in the crawled data."
   ]
  },
  {
   "cell_type": "markdown",
   "id": "7a977923",
   "metadata": {},
   "source": [
    "Rating Distribution"
   ]
  },
  {
   "cell_type": "code",
   "execution_count": 5,
   "id": "7d669122",
   "metadata": {},
   "outputs": [
    {
     "data": {
      "image/png": "[encoded data removed]",
      "text/plain": [
       "<Figure size 800x400 with 1 Axes>"
      ]
     },
     "metadata": {},
     "output_type": "display_data"
    }
   ],
   "source": [
    "import matplotlib.pyplot as plt\n",
    "import seaborn as sns\n",
    "\n",
    "plt.figure(figsize=(8, 4))\n",
    "sns.countplot(x='rating', data=df)\n",
    "plt.title(\"Distribution of Ratings\")\n",
    "plt.xlabel(\"Rating\")\n",
    "plt.ylabel(\"Count\")\n",
    "plt.show()\n"
   ]
  },
  {
   "cell_type": "markdown",
   "id": "455f5b1d",
   "metadata": {},
   "source": [
    "Sample review by rating"
   ]
  },
  {
   "cell_type": "code",
   "execution_count": 13,
   "id": "104ae666",
   "metadata": {},
   "outputs": [
    {
     "name": "stdout",
     "output_type": "stream",
     "text": [
      "\n",
      " #----- Rating: 1 -----#\n",
      "Can’t get it to show videos on screen.\n",
      "\n",
      " #----- Rating: 2 -----#\n",
      "Some of them work and some of them don’t .  Then the ones that do work don’t last long\n",
      "\n",
      " #----- Rating: 3 -----#\n",
      "This thing makes a loud clicking noise every 5 seconds at idle. It sounds like its failing but I haven't noticed any performance issues yet.\n",
      "\n",
      " #----- Rating: 4 -----#\n",
      "So this whole thing is pretty interesting it doesn't pick you up as well as it should at least with the bit I've used it it's not very user friendly as I thought it should be and I'm not that offten using cameras and cameras and technology for that posting and stuff like that but that's why it should be the easiest quick you know playing like it showed in the video to track you in all that but I could not get it to go through that very well it kept getting distracted with Surrounding environment and not tracking me. Definitely could use some more time with this To figure out the settings and use it more than what I have so far\n",
      "\n",
      " #----- Rating: 5 -----#\n",
      "No place to mount a full size CB in my car. This works perfect and fits in the console. Would like a jack for an external speaker or Bluetooth speaker.\n"
     ]
    }
   ],
   "source": [
    "for rating in sorted(df['rating'].unique()):\n",
    "    print(f\"\\n #----- Rating: {rating} -----#\")\n",
    "    print(df[df['rating'] == rating]['text'].sample(1).values[0])\n"
   ]
  },
  {
   "cell_type": "markdown",
   "id": "8ee5301e",
   "metadata": {},
   "source": [
    "From the above, we can see the difference in sentiment in ratings ranging from 1 star (negative) to 5 stars (postive).\n",
    "We can also see that the text in reviews have a combination of uppercase and lowercase, punctuations, and stopwords. We will need to preprocess this.\n",
    "- Lowercasing letters: standardises words to reduce redundancy.\n",
    "- Removing Punctuations: doesnt contribute much to sentiment or subjectivity\n",
    "- Removing stopwords: occurs frequently and usually not informative, removing them ensures focus on important words.\n",
    "- Tokenization: makes text usable by machine learning models.\n",
    "- Lemmatization: groups different word forms to its original base form, improving generalisation."
   ]
  },
  {
   "cell_type": "markdown",
   "id": "7db1c193",
   "metadata": {},
   "source": [
    "Number of words per review"
   ]
  },
  {
   "cell_type": "code",
   "execution_count": 14,
   "id": "596d2308",
   "metadata": {},
   "outputs": [
    {
     "data": {
      "image/png": "[encoded data removed]",
      "text/plain": [
       "<Figure size 640x480 with 1 Axes>"
      ]
     },
     "metadata": {},
     "output_type": "display_data"
    }
   ],
   "source": [
    "df['text_length'] = df['text'].apply(lambda x: len(x.split()))\n",
    "df['text_length'].describe()\n",
    "\n",
    "plt.hist(df['text_length'], bins=50)\n",
    "plt.title(\"Review Lengths (in words)\")\n",
    "plt.xlabel(\"Words\")\n",
    "plt.ylabel(\"Frequency\")\n",
    "plt.show()\n"
   ]
  },
  {
   "cell_type": "markdown",
   "id": "3e4cda51",
   "metadata": {},
   "source": [
    "### Data Preprocessing"
   ]
  },
  {
   "cell_type": "markdown",
   "id": "1038a049",
   "metadata": {},
   "source": [
    "Install NLTK resources"
   ]
  },
  {
   "cell_type": "code",
   "execution_count": 18,
   "id": "ebdfc98a",
   "metadata": {},
   "outputs": [
    {
     "name": "stdout",
     "output_type": "stream",
     "text": [
      "showing info https://raw.githubusercontent.com/nltk/nltk_data/gh-pages/index.xml\n",
      "showing info https://raw.githubusercontent.com/nltk/nltk_data/gh-pages/index.xml\n"
     ]
    },
    {
     "data": {
      "text/plain": [
       "True"
      ]
     },
     "execution_count": 18,
     "metadata": {},
     "output_type": "execute_result"
    }
   ],
   "source": [
    "import nltk\n",
    "\n",
    "nltk.download()"
   ]
  },
  {
   "cell_type": "markdown",
   "id": "d9043189",
   "metadata": {},
   "source": [
    "Text cleaning function using NLTK.\n",
    "- lowercase all letters\n",
    "- punctuation removal\n",
    "- stopword removal\n",
    "- tokenize\n",
    "- lemmatize"
   ]
  },
  {
   "cell_type": "code",
   "execution_count": 19,
   "id": "2ac85cb5",
   "metadata": {},
   "outputs": [],
   "source": [
    "import string\n",
    "from nltk.tokenize import word_tokenize\n",
    "from nltk.corpus import stopwords\n",
    "from nltk.stem import WordNetLemmatizer\n",
    "\n",
    "stop_words = set(stopwords.words('english'))\n",
    "lemmatizer = WordNetLemmatizer()\n",
    "\n",
    "def clean_text(text):\n",
    "    # Lowercase\n",
    "    text = text.lower()\n",
    "    # Tokenize\n",
    "    tokens = word_tokenize(text)\n",
    "    # Remove punctuation & stopwords, then lemmatize\n",
    "    cleaned = [lemmatizer.lemmatize(word) for word in tokens \n",
    "               if word not in stop_words and word not in string.punctuation]\n",
    "    return \" \".join(cleaned)\n"
   ]
  },
  {
   "cell_type": "markdown",
   "id": "b7f9edc1",
   "metadata": {},
   "source": [
    "Clean text"
   ]
  },
  {
   "cell_type": "code",
   "execution_count": 20,
   "id": "1cdda89f",
   "metadata": {},
   "outputs": [
    {
     "name": "stderr",
     "output_type": "stream",
     "text": [
      "100%|██████████| 226725/226725 [00:51<00:00, 4441.49it/s]\n"
     ]
    }
   ],
   "source": [
    "from tqdm import tqdm\n",
    "tqdm.pandas()\n",
    "\n",
    "df['clean_text'] = df['text'].progress_apply(clean_text)\n"
   ]
  },
  {
   "cell_type": "code",
   "execution_count": 21,
   "id": "3e36d8ba",
   "metadata": {},
   "outputs": [
    {
     "data": {
      "text/html": [
       "<div>\n",
       "<style scoped>\n",
       "    .dataframe tbody tr th:only-of-type {\n",
       "        vertical-align: middle;\n",
       "    }\n",
       "\n",
       "    .dataframe tbody tr th {\n",
       "        vertical-align: top;\n",
       "    }\n",
       "\n",
       "    .dataframe thead th {\n",
       "        text-align: right;\n",
       "    }\n",
       "</style>\n",
       "<table border=\"1\" class=\"dataframe\">\n",
       "  <thead>\n",
       "    <tr style=\"text-align: right;\">\n",
       "      <th></th>\n",
       "      <th>text</th>\n",
       "      <th>clean_text</th>\n",
       "    </tr>\n",
       "  </thead>\n",
       "  <tbody>\n",
       "    <tr>\n",
       "      <th>88650</th>\n",
       "      <td>Got this for our granddaughter and she was thr...</td>\n",
       "      <td>got granddaughter thrilled tried right away li...</td>\n",
       "    </tr>\n",
       "    <tr>\n",
       "      <th>158311</th>\n",
       "      <td>The reviews and product info all referenced us...</td>\n",
       "      <td>review product info referenced using iphone ip...</td>\n",
       "    </tr>\n",
       "    <tr>\n",
       "      <th>188253</th>\n",
       "      <td>When I signed-up for Comcast Xfinity a couple ...</td>\n",
       "      <td>signed-up comcast xfinity couple year ago made...</td>\n",
       "    </tr>\n",
       "    <tr>\n",
       "      <th>19510</th>\n",
       "      <td>does exactly what I needed it for, would buy a...</td>\n",
       "      <td>exactly needed would buy use electronics work</td>\n",
       "    </tr>\n",
       "    <tr>\n",
       "      <th>84003</th>\n",
       "      <td>Love the motif and how sturdy it is.</td>\n",
       "      <td>love motif sturdy</td>\n",
       "    </tr>\n",
       "  </tbody>\n",
       "</table>\n",
       "</div>"
      ],
      "text/plain": [
       "                                                     text  \\\n",
       "88650   Got this for our granddaughter and she was thr...   \n",
       "158311  The reviews and product info all referenced us...   \n",
       "188253  When I signed-up for Comcast Xfinity a couple ...   \n",
       "19510   does exactly what I needed it for, would buy a...   \n",
       "84003                Love the motif and how sturdy it is.   \n",
       "\n",
       "                                               clean_text  \n",
       "88650   got granddaughter thrilled tried right away li...  \n",
       "158311  review product info referenced using iphone ip...  \n",
       "188253  signed-up comcast xfinity couple year ago made...  \n",
       "19510       exactly needed would buy use electronics work  \n",
       "84003                                   love motif sturdy  "
      ]
     },
     "execution_count": 21,
     "metadata": {},
     "output_type": "execute_result"
    }
   ],
   "source": [
    "df[['text', 'clean_text']].sample(5)"
   ]
  },
  {
   "cell_type": "code",
   "execution_count": 25,
   "id": "f5e8cf14",
   "metadata": {},
   "outputs": [
    {
     "name": "stdout",
     "output_type": "stream",
     "text": [
      "\n",
      " #----- Rating: 1 -----#\n",
      "disssapointed. br genesis technology speaker well respected spec system fantastic order mute everything totally kill vibrancy area .... 500 tweeter happy amazing detail crushed make nice lamp cord\n",
      "\n",
      " #----- Rating: 2 -----#\n",
      "bought keyboard april 2022 's starting stop working randomly key register wo n't able type anything would n't recommend board anyone\n",
      "\n",
      " #----- Rating: 3 -----#\n",
      "usb actually drained phone overnight instead charging\n",
      "\n",
      " #----- Rating: 4 -----#\n",
      "bought one came broken display replacement worked first image quality great gently moving screen seemed crack crazy uperfect gave upgraded model metal frame one work great customer support good fast communication quick shipping. br br three star overall br original product bought 1 star br customer support upgraded replacement 5 star br br 3 star overall guess\n",
      "\n",
      " #----- Rating: 5 -----#\n",
      "cable appears well made photo product listing accurate connection end well formed metal housing molded hard plastic strain relief thickly coated cable attached cable appears thick rubberized jacket coating shielding protect make bit stiff bend easily around tight corner typically plus indicator cable using good shielding thicker wire likely break bent course way prove would cut open verify super think jacket installing end connector fit tight snug worked fine delivering 4k video signal apparent issue thus currently listed price 8.99 6 foot cable good deal quality cable\n"
     ]
    }
   ],
   "source": [
    "for rating in sorted(df['rating'].unique()):\n",
    "    print(f\"\\n #----- Rating: {rating} -----#\")\n",
    "    print(df[df['rating'] == rating]['clean_text'].sample(1).values[0])"
   ]
  },
  {
   "cell_type": "markdown",
   "id": "31f8a058",
   "metadata": {},
   "source": [
    "Reviewing some examples after text cleaning, it seems that the original sentiment of the text reviews remain unchanged."
   ]
  },
  {
   "cell_type": "code",
   "execution_count": 26,
   "id": "014d7032",
   "metadata": {},
   "outputs": [],
   "source": [
    "df.to_csv(\"data/cleaned_reviews.csv\", index=False)"
   ]
  },
  {
   "cell_type": "markdown",
   "id": "f38afe83",
   "metadata": {},
   "source": [
    "### Manual Annotation"
   ]
  },
  {
   "cell_type": "markdown",
   "id": "e608d753",
   "metadata": {},
   "source": [
    "Annotations:\n",
    "- Subjectivity: factual (0) vs opinionated (1)\n",
    "- Polarity: negative (0) vs positive (1)\n",
    "\n",
    "--- Leave polarity blank if subjectivity == 0, since its factual, there is no polarity to it."
   ]
  },
  {
   "cell_type": "code",
   "execution_count": null,
   "id": "b53862c0",
   "metadata": {},
   "outputs": [],
   "source": [
    "# Sample 1,000 random reviews\n",
    "sample_df = df[['text', 'clean_text','rating']].sample(1000, random_state=42)\n",
    "\n",
    "sample_df['subjectivity_1'] = \"\"\n",
    "sample_df['polarity_1'] = \"\"\n",
    "sample_df['subjectivity_2'] = \"\"\n",
    "sample_df['polarity_2'] = \"\"\n",
    "\n",
    "# Save to CSV for manual annotation (download and rename as annotated.csv)\n",
    "sample_df.to_csv(\"to_annotate.csv\", index=False)\n"
   ]
  },
  {
   "cell_type": "code",
   "execution_count": 29,
   "id": "46718d63",
   "metadata": {},
   "outputs": [
    {
     "data": {
      "text/html": [
       "<div>\n",
       "<style scoped>\n",
       "    .dataframe tbody tr th:only-of-type {\n",
       "        vertical-align: middle;\n",
       "    }\n",
       "\n",
       "    .dataframe tbody tr th {\n",
       "        vertical-align: top;\n",
       "    }\n",
       "\n",
       "    .dataframe thead th {\n",
       "        text-align: right;\n",
       "    }\n",
       "</style>\n",
       "<table border=\"1\" class=\"dataframe\">\n",
       "  <thead>\n",
       "    <tr style=\"text-align: right;\">\n",
       "      <th></th>\n",
       "      <th>text</th>\n",
       "      <th>clean_text</th>\n",
       "      <th>rating</th>\n",
       "      <th>subjectivity_1</th>\n",
       "      <th>polarity_1</th>\n",
       "      <th>subjectivity_2</th>\n",
       "      <th>polarity_2</th>\n",
       "    </tr>\n",
       "  </thead>\n",
       "  <tbody>\n",
       "    <tr>\n",
       "      <th>0</th>\n",
       "      <td>I literally wore out my previous mouse.  This ...</td>\n",
       "      <td>literally wore previous mouse one comfortable ...</td>\n",
       "      <td>5</td>\n",
       "      <td>1</td>\n",
       "      <td>1.0</td>\n",
       "      <td>1.0</td>\n",
       "      <td>1.0</td>\n",
       "    </tr>\n",
       "    <tr>\n",
       "      <th>1</th>\n",
       "      <td>Very easy to set up. The clock/alarm feature i...</td>\n",
       "      <td>easy set clock/alarm feature great</td>\n",
       "      <td>5</td>\n",
       "      <td>1</td>\n",
       "      <td>1.0</td>\n",
       "      <td>1.0</td>\n",
       "      <td>1.0</td>\n",
       "    </tr>\n",
       "    <tr>\n",
       "      <th>2</th>\n",
       "      <td>Very nice backdrop. Light weight easy to keep ...</td>\n",
       "      <td>nice backdrop light weight easy keep wall</td>\n",
       "      <td>5</td>\n",
       "      <td>1</td>\n",
       "      <td>1.0</td>\n",
       "      <td>1.0</td>\n",
       "      <td>1.0</td>\n",
       "    </tr>\n",
       "    <tr>\n",
       "      <th>3</th>\n",
       "      <td>I was looking for a way to add a little more r...</td>\n",
       "      <td>looking way add little room desk monitor stand...</td>\n",
       "      <td>5</td>\n",
       "      <td>1</td>\n",
       "      <td>1.0</td>\n",
       "      <td>1.0</td>\n",
       "      <td>1.0</td>\n",
       "    </tr>\n",
       "    <tr>\n",
       "      <th>4</th>\n",
       "      <td>I paid for the 2 year worry free warrantly. Bo...</td>\n",
       "      <td>paid 2 year worry free warrantly bought sale c...</td>\n",
       "      <td>3</td>\n",
       "      <td>1</td>\n",
       "      <td>0.0</td>\n",
       "      <td>1.0</td>\n",
       "      <td>0.0</td>\n",
       "    </tr>\n",
       "  </tbody>\n",
       "</table>\n",
       "</div>"
      ],
      "text/plain": [
       "                                                text  \\\n",
       "0  I literally wore out my previous mouse.  This ...   \n",
       "1  Very easy to set up. The clock/alarm feature i...   \n",
       "2  Very nice backdrop. Light weight easy to keep ...   \n",
       "3  I was looking for a way to add a little more r...   \n",
       "4  I paid for the 2 year worry free warrantly. Bo...   \n",
       "\n",
       "                                          clean_text  rating  subjectivity_1  \\\n",
       "0  literally wore previous mouse one comfortable ...       5               1   \n",
       "1                 easy set clock/alarm feature great       5               1   \n",
       "2          nice backdrop light weight easy keep wall       5               1   \n",
       "3  looking way add little room desk monitor stand...       5               1   \n",
       "4  paid 2 year worry free warrantly bought sale c...       3               1   \n",
       "\n",
       "   polarity_1  subjectivity_2  polarity_2  \n",
       "0         1.0             1.0         1.0  \n",
       "1         1.0             1.0         1.0  \n",
       "2         1.0             1.0         1.0  \n",
       "3         1.0             1.0         1.0  \n",
       "4         0.0             1.0         0.0  "
      ]
     },
     "execution_count": 29,
     "metadata": {},
     "output_type": "execute_result"
    }
   ],
   "source": [
    "df = pd.read_csv(\"annotated.csv\")\n",
    "df.head()"
   ]
  },
  {
   "cell_type": "markdown",
   "id": "3f4d1e83",
   "metadata": {},
   "source": [
    "During manual annotation, I realised that negation words are removed under \"stopwords\" in text cleaning. Doing so incorrectly changes the polarity of the text review and will cause inconsistency in the classification."
   ]
  },
  {
   "cell_type": "markdown",
   "id": "1abb3728",
   "metadata": {},
   "source": [
    "### Removal of negators from stopwords"
   ]
  },
  {
   "cell_type": "code",
   "execution_count": null,
   "id": "83776e52",
   "metadata": {},
   "outputs": [],
   "source": [
    "import contractions\n",
    "\n",
    "stop_words = set(stopwords.words('english'))\n",
    "negation_words = {\n",
    "    'no', 'not', 'nor', 'don', \"don't\", 'didn', \"didn't\",\n",
    "    'won', \"won't\", 'isn', \"isn't\", 'aren', \"aren't\",\n",
    "    'wasn', \"wasn't\", 'weren', \"weren't\"\n",
    "}\n",
    "stop_words = stop_words - negation_words\n",
    "\n",
    "lemmatizer = WordNetLemmatizer()\n",
    "\n",
    "def clean_text(text):\n",
    "    if pd.isnull(text):\n",
    "        return \"\"\n",
    "    text = contractions.fix(text.lower()) # split don't into do not\n",
    "    tokens = word_tokenize(text)\n",
    "    cleaned = [\n",
    "        lemmatizer.lemmatize(word) for word in tokens\n",
    "        if word.isalpha() and word not in stop_words\n",
    "    ]\n",
    "    return ' '.join(cleaned)\n",
    "df = pd.read_csv(\"annotated_cleaned.csv\")\n",
    "df['clean_text'] = df['text'].apply(clean_text)\n",
    "\n",
    "df.to_csv(\"annotated_cleaned.csv\", index=False)"
   ]
  },
  {
   "cell_type": "markdown",
   "id": "4c30bbfd",
   "metadata": {},
   "source": [
    "# START RUNNING FROM HERE "
   ]
  },
  {
   "cell_type": "code",
   "execution_count": 1,
   "id": "6bed27d8",
   "metadata": {},
   "outputs": [
    {
     "data": {
      "text/html": [
       "<div>\n",
       "<style scoped>\n",
       "    .dataframe tbody tr th:only-of-type {\n",
       "        vertical-align: middle;\n",
       "    }\n",
       "\n",
       "    .dataframe tbody tr th {\n",
       "        vertical-align: top;\n",
       "    }\n",
       "\n",
       "    .dataframe thead th {\n",
       "        text-align: right;\n",
       "    }\n",
       "</style>\n",
       "<table border=\"1\" class=\"dataframe\">\n",
       "  <thead>\n",
       "    <tr style=\"text-align: right;\">\n",
       "      <th></th>\n",
       "      <th>review_timestamp</th>\n",
       "      <th>review_text_original</th>\n",
       "      <th>review_text_cleaned</th>\n",
       "      <th>user_rating</th>\n",
       "      <th>subjectivity_1</th>\n",
       "      <th>polarity_1</th>\n",
       "      <th>subjectivity_2</th>\n",
       "      <th>polarity_2</th>\n",
       "    </tr>\n",
       "  </thead>\n",
       "  <tbody>\n",
       "    <tr>\n",
       "      <th>0</th>\n",
       "      <td>02-01-2023 23:26:27</td>\n",
       "      <td>bought this to replace my old airpod pro case,...</td>\n",
       "      <td>bought replace old airpod pro case waiting cas...</td>\n",
       "      <td>1</td>\n",
       "      <td>1</td>\n",
       "      <td>0.0</td>\n",
       "      <td>1</td>\n",
       "      <td>0.0</td>\n",
       "    </tr>\n",
       "    <tr>\n",
       "      <th>1</th>\n",
       "      <td>06-01-2023 12:17:25</td>\n",
       "      <td>shouldn't be recommended for year olds. looks ...</td>\n",
       "      <td>not recommended year old look baby small…</td>\n",
       "      <td>3</td>\n",
       "      <td>1</td>\n",
       "      <td>0.0</td>\n",
       "      <td>1</td>\n",
       "      <td>0.0</td>\n",
       "    </tr>\n",
       "    <tr>\n",
       "      <th>2</th>\n",
       "      <td>07-01-2023 21:44:34</td>\n",
       "      <td>i didn't want to deal with a case, but just go...</td>\n",
       "      <td>not want deal case got sick dropping earbuds s...</td>\n",
       "      <td>4</td>\n",
       "      <td>1</td>\n",
       "      <td>1.0</td>\n",
       "      <td>1</td>\n",
       "      <td>1.0</td>\n",
       "    </tr>\n",
       "    <tr>\n",
       "      <th>3</th>\n",
       "      <td>09-01-2023 21:40:26</td>\n",
       "      <td>the quality at this price point is great. soun...</td>\n",
       "      <td>quality price point great sound excellent</td>\n",
       "      <td>5</td>\n",
       "      <td>1</td>\n",
       "      <td>1.0</td>\n",
       "      <td>1</td>\n",
       "      <td>1.0</td>\n",
       "    </tr>\n",
       "    <tr>\n",
       "      <th>4</th>\n",
       "      <td>09-01-2023 19:33:02</td>\n",
       "      <td>works as advertised on my apple i-phone and pad.</td>\n",
       "      <td>work advertised apple i-phone pad</td>\n",
       "      <td>4</td>\n",
       "      <td>1</td>\n",
       "      <td>1.0</td>\n",
       "      <td>1</td>\n",
       "      <td>1.0</td>\n",
       "    </tr>\n",
       "  </tbody>\n",
       "</table>\n",
       "</div>"
      ],
      "text/plain": [
       "      review_timestamp                               review_text_original  \\\n",
       "0  02-01-2023 23:26:27  bought this to replace my old airpod pro case,...   \n",
       "1  06-01-2023 12:17:25  shouldn't be recommended for year olds. looks ...   \n",
       "2  07-01-2023 21:44:34  i didn't want to deal with a case, but just go...   \n",
       "3  09-01-2023 21:40:26  the quality at this price point is great. soun...   \n",
       "4  09-01-2023 19:33:02   works as advertised on my apple i-phone and pad.   \n",
       "\n",
       "                                 review_text_cleaned  user_rating  \\\n",
       "0  bought replace old airpod pro case waiting cas...            1   \n",
       "1          not recommended year old look baby small…            3   \n",
       "2  not want deal case got sick dropping earbuds s...            4   \n",
       "3          quality price point great sound excellent            5   \n",
       "4                  work advertised apple i-phone pad            4   \n",
       "\n",
       "   subjectivity_1  polarity_1  subjectivity_2  polarity_2  \n",
       "0               1         0.0               1         0.0  \n",
       "1               1         0.0               1         0.0  \n",
       "2               1         1.0               1         1.0  \n",
       "3               1         1.0               1         1.0  \n",
       "4               1         1.0               1         1.0  "
      ]
     },
     "execution_count": 1,
     "metadata": {},
     "output_type": "execute_result"
    }
   ],
   "source": [
    "import pandas as pd\n",
    "df = pd.read_csv(\"train_set.csv\")\n",
    "df.head()"
   ]
  },
  {
   "cell_type": "code",
   "execution_count": 2,
   "id": "df04a55b",
   "metadata": {},
   "outputs": [
    {
     "name": "stdout",
     "output_type": "stream",
     "text": [
      "Subjectivity Agreement (Cohen's Kappa): 98.98%\n",
      "Polarity Agreement (Cohen's Kappa, subjective only): 89.65%\n"
     ]
    }
   ],
   "source": [
    "from sklearn.metrics import cohen_kappa_score\n",
    "\n",
    "\n",
    "# Convert labels to integers\n",
    "df['subjectivity_1'] = df['subjectivity_1'].astype('Int64')\n",
    "df['subjectivity_2'] = df['subjectivity_2'].astype('Int64')\n",
    "df['polarity_1'] = df['polarity_1'].astype('Int64')\n",
    "df['polarity_2'] = df['polarity_2'].astype('Int64')\n",
    "\n",
    "# Subjectivity Kappa — use all rows\n",
    "kappa_subjectivity = cohen_kappa_score(df['subjectivity_1'], df['subjectivity_2'])*100\n",
    "\n",
    "# Polarity Kappa — only where both subjectivity_1 and subjectivity_2 are 1\n",
    "subjective_rows = df[(df['subjectivity_1'] == 1) & (df['subjectivity_2'] == 1)]\n",
    "kappa_polarity = cohen_kappa_score(subjective_rows['polarity_1'], subjective_rows['polarity_2'])*100\n",
    "\n",
    "# Print results\n",
    "print(f\"Subjectivity Agreement (Cohen's Kappa): {kappa_subjectivity:.2f}%\")\n",
    "print(f\"Polarity Agreement (Cohen's Kappa, subjective only): {kappa_polarity:.2f}%\")\n"
   ]
  },
  {
   "cell_type": "markdown",
   "id": "7aba2ba1",
   "metadata": {},
   "source": [
    "Cohen's Kappa Score measures the percentage of agreement between the two annotators. Subjectivity_1 and Polarity_1 is done by Annotator 1, and Subjectivity_2 and Polarity_2 is done by Annotator 2."
   ]
  },
  {
   "cell_type": "markdown",
   "id": "c68484f7",
   "metadata": {},
   "source": [
    "### Subjective Classification"
   ]
  },
  {
   "cell_type": "code",
   "execution_count": 4,
   "id": "0dab6a51",
   "metadata": {},
   "outputs": [
    {
     "name": "stderr",
     "output_type": "stream",
     "text": [
      "c:\\Users\\junhu\\classification_qn4\\nlu_classification_env\\lib\\site-packages\\keras\\src\\layers\\core\\dense.py:87: UserWarning: Do not pass an `input_shape`/`input_dim` argument to a layer. When using Sequential models, prefer using an `Input(shape)` object as the first layer in the model instead.\n",
      "  super().__init__(activity_regularizer=activity_regularizer, **kwargs)\n"
     ]
    },
    {
     "name": "stdout",
     "output_type": "stream",
     "text": [
      "\u001b[1m7/7\u001b[0m \u001b[32m━━━━━━━━━━━━━━━━━━━━\u001b[0m\u001b[37m\u001b[0m \u001b[1m0s\u001b[0m 7ms/step \n",
      "\n",
      "Evaluating thresholds:\n",
      "\n",
      "Threshold: 0.3\n",
      "              precision    recall  f1-score   support\n",
      "\n",
      "           0       0.50      0.22      0.30        37\n",
      "           1       0.84      0.95      0.89       163\n",
      "\n",
      "    accuracy                           0.81       200\n",
      "   macro avg       0.67      0.58      0.60       200\n",
      "weighted avg       0.78      0.81      0.78       200\n",
      "\n",
      "\n",
      "Threshold: 0.4\n",
      "              precision    recall  f1-score   support\n",
      "\n",
      "           0       0.50      0.22      0.30        37\n",
      "           1       0.84      0.95      0.89       163\n",
      "\n",
      "    accuracy                           0.81       200\n",
      "   macro avg       0.67      0.58      0.60       200\n",
      "weighted avg       0.78      0.81      0.78       200\n",
      "\n",
      "\n",
      "Threshold: 0.5\n",
      "              precision    recall  f1-score   support\n",
      "\n",
      "           0       0.56      0.27      0.36        37\n",
      "           1       0.85      0.95      0.90       163\n",
      "\n",
      "    accuracy                           0.82       200\n",
      "   macro avg       0.70      0.61      0.63       200\n",
      "weighted avg       0.80      0.82      0.80       200\n",
      "\n",
      "\n",
      "Threshold: 0.6\n",
      "              precision    recall  f1-score   support\n",
      "\n",
      "           0       0.55      0.30      0.39        37\n",
      "           1       0.86      0.94      0.90       163\n",
      "\n",
      "    accuracy                           0.82       200\n",
      "   macro avg       0.70      0.62      0.64       200\n",
      "weighted avg       0.80      0.82      0.80       200\n",
      "\n",
      "\n",
      "Threshold: 0.7\n",
      "              precision    recall  f1-score   support\n",
      "\n",
      "           0       0.58      0.38      0.46        37\n",
      "           1       0.87      0.94      0.90       163\n",
      "\n",
      "    accuracy                           0.83       200\n",
      "   macro avg       0.73      0.66      0.68       200\n",
      "weighted avg       0.82      0.83      0.82       200\n",
      "\n",
      "\n",
      "Threshold: 0.8\n",
      "              precision    recall  f1-score   support\n",
      "\n",
      "           0       0.55      0.46      0.50        37\n",
      "           1       0.88      0.91      0.90       163\n",
      "\n",
      "    accuracy                           0.83       200\n",
      "   macro avg       0.72      0.69      0.70       200\n",
      "weighted avg       0.82      0.83      0.82       200\n",
      "\n",
      "\n",
      " Best threshold = 0.8 with macro F1 = 0.6988\n",
      "\n",
      "Random Classifier (Subjectivity):\n",
      "              precision    recall  f1-score   support\n",
      "\n",
      "           0       0.18      0.46      0.26        37\n",
      "           1       0.81      0.52      0.63       163\n",
      "\n",
      "    accuracy                           0.51       200\n",
      "   macro avg       0.49      0.49      0.44       200\n",
      "weighted avg       0.69      0.51      0.56       200\n",
      "\n",
      "\u001b[1m7/7\u001b[0m \u001b[32m━━━━━━━━━━━━━━━━━━━━\u001b[0m\u001b[37m\u001b[0m \u001b[1m0s\u001b[0m 2ms/step\n",
      "\n",
      "Prediction time: 0.0416 seconds for 200 samples\n"
     ]
    }
   ],
   "source": [
    "import pandas as pd\n",
    "import numpy as np\n",
    "import time\n",
    "from sklearn.model_selection import train_test_split\n",
    "from sklearn.feature_extraction.text import TfidfVectorizer\n",
    "from sklearn.metrics import classification_report\n",
    "from tensorflow.keras.models import Sequential\n",
    "from tensorflow.keras.layers import Dense, Dropout, BatchNormalization\n",
    "from tensorflow.keras.optimizers import Adam\n",
    "\n",
    "# Load and prepare dataset\n",
    "df_full = pd.read_csv(\"train_set.csv\")\n",
    "df_subj = df_full[df_full['subjectivity_1'] == df_full['subjectivity_2']].copy()\n",
    "df_subj['subjectivity'] = df_subj['subjectivity_1']\n",
    "df_subj = df_subj[df_subj['review_text_cleaned'].notnull() & (df_subj['review_text_cleaned'].str.strip() != \"\")]\n",
    "\n",
    "# TF-IDF vectorization\n",
    "vectorizer = TfidfVectorizer(max_features=5000)\n",
    "X_subj = vectorizer.fit_transform(df_subj['review_text_cleaned']).toarray()\n",
    "y_subj = df_subj['subjectivity']\n",
    "\n",
    "X_train, X_test, y_train, y_test = train_test_split(X_subj, y_subj, test_size=0.2, random_state=42)\n",
    "\n",
    "# Build model\n",
    "model_subj = Sequential([\n",
    "    Dense(512, activation='relu', input_shape=(X_train.shape[1],)),\n",
    "    BatchNormalization(),\n",
    "    Dropout(0.4),\n",
    "    Dense(256, activation='relu'),\n",
    "    BatchNormalization(),\n",
    "    Dropout(0.3),\n",
    "    Dense(128, activation='relu'),\n",
    "    Dropout(0.3),\n",
    "    Dense(1, activation='sigmoid')\n",
    "])\n",
    "model_subj.compile(optimizer=Adam(learning_rate=3e-4), loss='binary_crossentropy', metrics=['accuracy'])\n",
    "\n",
    "# Train\n",
    "model_subj.fit(X_train, y_train, epochs=100, batch_size=32, validation_split=0.1, verbose=0)\n",
    "\n",
    "# Prediction\n",
    "y_probs = model_subj.predict(X_test).flatten()\n",
    "\n",
    "# Evaluate multiple thresholds\n",
    "thresholds = [0.3, 0.4, 0.5, 0.6, 0.7, 0.8]\n",
    "best_threshold = 0.5\n",
    "best_macro_f1 = 0\n",
    "\n",
    "print(\"\\nEvaluating thresholds:\")\n",
    "from sklearn.metrics import f1_score\n",
    "\n",
    "for t in thresholds:\n",
    "    y_pred = (y_probs > t).astype(\"int32\")\n",
    "    report = classification_report(y_test, y_pred, output_dict=True)\n",
    "    macro_f1 = report[\"macro avg\"][\"f1-score\"]\n",
    "    \n",
    "    print(f\"\\nThreshold: {t}\")\n",
    "    print(classification_report(y_test, y_pred))\n",
    "    \n",
    "    if macro_f1 > best_macro_f1:\n",
    "        best_macro_f1 = macro_f1\n",
    "        best_threshold = t\n",
    "\n",
    "print(f\"\\n Best threshold = {best_threshold} with macro F1 = {best_macro_f1:.4f}\")\n",
    "\n",
    "# Random Classifier\n",
    "y_random = np.random.choice([0, 1], size=len(y_test))\n",
    "print(\"\\nRandom Classifier (Subjectivity):\")\n",
    "print(classification_report(y_test, y_random))\n",
    "\n",
    "# Prediction speed test\n",
    "start = time.time()\n",
    "_ = model_subj.predict(X_test)\n",
    "print(f\"\\nPrediction time: {time.time() - start:.4f} seconds for {len(X_test)} samples\")\n",
    "\n",
    "\n"
   ]
  },
  {
   "cell_type": "markdown",
   "id": "6c8fc6e7",
   "metadata": {},
   "source": [
    "- precision: the proportion of correct positive predictions out of all positive predictions. (TP/TP+FP)\n",
    "- recall: the proportion of correct positive predictions out of all actual positive predictions. (TP/TP+FN)\n",
    "- F1-score: harmonic mean of precision and recall\n",
    "\n",
    "Looking at the results from the best threshold of 0.8,\n",
    "The model performed extremely well on prediction of subjectivity = 1 (opinionated) as seen from the high precision (0.88), recall (0.91), and F1 score (0.90). However, it seems to struggle a bit when predicting subjectivity = 0 (factual), with only a 46% recall. This could be due to the fact that the data distribution is biased towards opinionated as seen from the high percentage of it in the test split compared to factual instances. (37 factual, 163 opinionated)\n",
    "\n",
    "The random classifier has an overall accuracy of 0.51, which is expected from random choices between 0 and 1.Other than the recall for factial(0) being the same, the rest of the metrics are a lot lower than the model we trained. Comparing to the random classifier, the deep learning model works better in terms of predicting the subjectivity of text reviews."
   ]
  },
  {
   "cell_type": "markdown",
   "id": "696bf77f",
   "metadata": {},
   "source": [
    "### Polarity Classification"
   ]
  },
  {
   "cell_type": "code",
   "execution_count": 5,
   "id": "21aaeb49",
   "metadata": {},
   "outputs": [],
   "source": [
    "# For polarity: use only where both agreed it's subjective AND agreed on polarity\n",
    "df_agreed = df[df['subjectivity_1'] == df['subjectivity_2']].copy()\n",
    "df_agreed['subjectivity'] = df_agreed['subjectivity_1']\n",
    "\n",
    "df_agreed = df_agreed[(df_agreed['subjectivity'] == 1) & \n",
    "                      (df_agreed['polarity_1'] == df_agreed['polarity_2'])]\n",
    "\n",
    "df_agreed['polarity'] = df_agreed['polarity_1']\n"
   ]
  },
  {
   "cell_type": "code",
   "execution_count": 7,
   "id": "a6706b17",
   "metadata": {},
   "outputs": [
    {
     "name": "stderr",
     "output_type": "stream",
     "text": [
      "c:\\Users\\junhu\\classification_qn4\\nlu_classification_env\\lib\\site-packages\\keras\\src\\layers\\core\\dense.py:87: UserWarning: Do not pass an `input_shape`/`input_dim` argument to a layer. When using Sequential models, prefer using an `Input(shape)` object as the first layer in the model instead.\n",
      "  super().__init__(activity_regularizer=activity_regularizer, **kwargs)\n"
     ]
    },
    {
     "name": "stdout",
     "output_type": "stream",
     "text": [
      "\u001b[1m5/5\u001b[0m \u001b[32m━━━━━━━━━━━━━━━━━━━━\u001b[0m\u001b[37m\u001b[0m \u001b[1m0s\u001b[0m 10ms/step\n",
      "\n",
      "Evaluating thresholds for polarity prediction:\n",
      "\n",
      "Threshold: 0.3\n",
      "              precision    recall  f1-score   support\n",
      "\n",
      "           0       0.70      0.62      0.66        65\n",
      "           1       0.75      0.81      0.78        91\n",
      "\n",
      "    accuracy                           0.73       156\n",
      "   macro avg       0.72      0.71      0.72       156\n",
      "weighted avg       0.73      0.73      0.73       156\n",
      "\n",
      "\n",
      "Threshold: 0.4\n",
      "              precision    recall  f1-score   support\n",
      "\n",
      "           0       0.70      0.65      0.67        65\n",
      "           1       0.76      0.80      0.78        91\n",
      "\n",
      "    accuracy                           0.74       156\n",
      "   macro avg       0.73      0.72      0.73       156\n",
      "weighted avg       0.74      0.74      0.74       156\n",
      "\n",
      "\n",
      "Threshold: 0.5\n",
      "              precision    recall  f1-score   support\n",
      "\n",
      "           0       0.69      0.68      0.68        65\n",
      "           1       0.77      0.78      0.78        91\n",
      "\n",
      "    accuracy                           0.74       156\n",
      "   macro avg       0.73      0.73      0.73       156\n",
      "weighted avg       0.74      0.74      0.74       156\n",
      "\n",
      "\n",
      "Threshold: 0.6\n",
      "              precision    recall  f1-score   support\n",
      "\n",
      "           0       0.68      0.72      0.70        65\n",
      "           1       0.79      0.76      0.78        91\n",
      "\n",
      "    accuracy                           0.74       156\n",
      "   macro avg       0.74      0.74      0.74       156\n",
      "weighted avg       0.75      0.74      0.74       156\n",
      "\n",
      "\n",
      "Threshold: 0.7\n",
      "              precision    recall  f1-score   support\n",
      "\n",
      "           0       0.66      0.75      0.71        65\n",
      "           1       0.80      0.73      0.76        91\n",
      "\n",
      "    accuracy                           0.74       156\n",
      "   macro avg       0.73      0.74      0.73       156\n",
      "weighted avg       0.75      0.74      0.74       156\n",
      "\n",
      "\n",
      "Threshold: 0.8\n",
      "              precision    recall  f1-score   support\n",
      "\n",
      "           0       0.68      0.83      0.74        65\n",
      "           1       0.86      0.71      0.78        91\n",
      "\n",
      "    accuracy                           0.76       156\n",
      "   macro avg       0.77      0.77      0.76       156\n",
      "weighted avg       0.78      0.76      0.76       156\n",
      "\n",
      "\n",
      " Best threshold = 0.8 with macro F1 = 0.7616\n",
      "\n",
      "Random Classifier (Polarity):\n",
      "              precision    recall  f1-score   support\n",
      "\n",
      "           0       0.38      0.49      0.43        65\n",
      "           1       0.54      0.43      0.48        91\n",
      "\n",
      "    accuracy                           0.46       156\n",
      "   macro avg       0.46      0.46      0.45       156\n",
      "weighted avg       0.47      0.46      0.46       156\n",
      "\n",
      "\u001b[1m5/5\u001b[0m \u001b[32m━━━━━━━━━━━━━━━━━━━━\u001b[0m\u001b[37m\u001b[0m \u001b[1m0s\u001b[0m 4ms/step\n",
      "\n",
      "Prediction time: 0.0419 seconds for 156 samples\n"
     ]
    }
   ],
   "source": [
    "from sklearn.model_selection import train_test_split\n",
    "from sklearn.metrics import classification_report\n",
    "\n",
    "df_pol = df_agreed.copy()\n",
    "df_pol = df_pol[df_pol['review_text_cleaned'].notnull() & (df_pol['review_text_cleaned'].str.strip() != \"\")]\n",
    "X_pol = vectorizer.transform(df_pol['review_text_cleaned']).toarray()\n",
    "y_pol = df_pol['polarity'].astype(int)\n",
    "\n",
    "X_train, X_test, y_train, y_test = train_test_split(X_pol, y_pol, test_size=0.2, random_state=42)\n",
    "\n",
    "# Model\n",
    "model_pol = Sequential([\n",
    "    Dense(512, activation='relu', input_shape=(X_train.shape[1],)),\n",
    "    BatchNormalization(),\n",
    "    Dropout(0.4),\n",
    "    Dense(256, activation='relu'),\n",
    "    BatchNormalization(),\n",
    "    Dropout(0.3),\n",
    "    Dense(128, activation='relu'),\n",
    "    Dropout(0.3),\n",
    "    Dense(1, activation='sigmoid')\n",
    "])\n",
    "\n",
    "model_pol.compile(\n",
    "    optimizer=Adam(learning_rate=3e-4),\n",
    "    loss='binary_crossentropy',\n",
    "    metrics=['accuracy']\n",
    ")\n",
    "\n",
    "# Train\n",
    "model_pol.fit(X_train, y_train, epochs=100, batch_size=32, validation_split=0.1, verbose=0)\n",
    "\n",
    "# 4. Predict probabilities\n",
    "y_prob = model_pol.predict(X_test).flatten()\n",
    "\n",
    "# Find best threshold\n",
    "thresholds = [0.3, 0.4, 0.5, 0.6, 0.7, 0.8]\n",
    "best_threshold = 0.5\n",
    "best_macro_f1 = 0\n",
    "\n",
    "print(\"\\nEvaluating thresholds for polarity prediction:\")\n",
    "\n",
    "for t in thresholds:\n",
    "    y_pred = (y_prob > t).astype(\"int32\")\n",
    "    report = classification_report(y_test, y_pred, output_dict=True)\n",
    "    macro_f1 = report[\"macro avg\"][\"f1-score\"]\n",
    "\n",
    "    print(f\"\\nThreshold: {t}\")\n",
    "    print(classification_report(y_test, y_pred))\n",
    "\n",
    "    if macro_f1 > best_macro_f1:\n",
    "        best_macro_f1 = macro_f1\n",
    "        best_threshold = t\n",
    "\n",
    "print(f\"\\n Best threshold = {best_threshold} with macro F1 = {best_macro_f1:.4f}\")\n",
    "\n",
    "# Random Classifier\n",
    "y_random = np.random.choice([0, 1], size=len(y_test))\n",
    "print(\"\\nRandom Classifier (Polarity):\")\n",
    "print(classification_report(y_test, y_random))\n",
    "\n",
    "# Prediction speed test\n",
    "start = time.time()\n",
    "_ = model_pol.predict(X_test)\n",
    "print(f\"\\nPrediction time: {time.time() - start:.4f} seconds for {len(X_test)} samples\")\n"
   ]
  },
  {
   "cell_type": "markdown",
   "id": "a81f1f7c",
   "metadata": {},
   "source": [
    "Looking at the metric results, the model performs very well with an accuracy of 76%. The high precision (0.86), recall (0.71) and F1-score(0.78) on class 1 (positive) shows that it can predict positive polarity within text reviews excellently. For negative polarity (class 0), the model performs equally well with similar results. \n",
    "The polarity prediction model is more well balanced than subjectivity prediction.\n",
    "Comparing with the random classifier, the model outperforms randomness in every aspect. An explanation of this is that for polarity, the ditribution of classes in the dataset is less skewed and biased, resulting in more data for training and testing for the minority class."
   ]
  },
  {
   "cell_type": "markdown",
   "id": "1e3ad275",
   "metadata": {},
   "source": [
    "##### Speed and Scalability"
   ]
  },
  {
   "cell_type": "markdown",
   "id": "ed65ab26",
   "metadata": {},
   "source": [
    "Running 100 epochs of training and validation, followed by evaluation for both classification tasks took about 16 seconds each. This shows that the model is lightweight and can train very quickly. Since the model works decently well on 1000 samples, it can easily be scaled up to 10,000 or more samples. Other use cases such as multilingual support or aspect-based sentiment analysis could be added and the model should work quickly and with ease."
   ]
  },
  {
   "cell_type": "markdown",
   "id": "452ef4b8",
   "metadata": {},
   "source": [
    "## ----------------------- End of Question 4 -----------------------"
   ]
  },
  {
   "cell_type": "markdown",
   "id": "5bc314d6",
   "metadata": {},
   "source": [
    "### Classification Prediction"
   ]
  },
  {
   "cell_type": "markdown",
   "id": "7b6aab8c",
   "metadata": {},
   "source": [
    "Load full data"
   ]
  },
  {
   "cell_type": "code",
   "execution_count": 8,
   "id": "10e47b47",
   "metadata": {},
   "outputs": [],
   "source": [
    "df2 = pd.read_json(\"full_table_clean_new.json\", lines = True)"
   ]
  },
  {
   "cell_type": "code",
   "execution_count": 9,
   "id": "7c24c544",
   "metadata": {},
   "outputs": [
    {
     "data": {
      "text/plain": [
       "Index(['review_timestamp', 'review_text_original', 'review_text_cleaned',\n",
       "       'user_rating', 'subjectivity_1', 'polarity_1', 'subjectivity_2',\n",
       "       'polarity_2'],\n",
       "      dtype='object')"
      ]
     },
     "execution_count": 9,
     "metadata": {},
     "output_type": "execute_result"
    }
   ],
   "source": [
    "df.columns"
   ]
  },
  {
   "cell_type": "code",
   "execution_count": 10,
   "id": "c16c9e0a",
   "metadata": {},
   "outputs": [
    {
     "data": {
      "text/plain": [
       "review_id                       0\n",
       "user_rating                     0\n",
       "review_timestamp                0\n",
       "number_of_helpful_votes         0\n",
       "verified_purchase               0\n",
       "review_language                 0\n",
       "review_text_cleaned             0\n",
       "review_text_original            0\n",
       "review_image_url_small          0\n",
       "review_image_url_medium         0\n",
       "review_image_url_large          0\n",
       "product_category              978\n",
       "product_name                    0\n",
       "product_price_USD            6516\n",
       "product_store                   6\n",
       "product_brand                   0\n",
       "product_country_of_origin       0\n",
       "dtype: int64"
      ]
     },
     "execution_count": 10,
     "metadata": {},
     "output_type": "execute_result"
    }
   ],
   "source": [
    "df2.isnull().sum()"
   ]
  },
  {
   "cell_type": "markdown",
   "id": "df8a2919",
   "metadata": {},
   "source": [
    "### Subjectivity Prediction"
   ]
  },
  {
   "cell_type": "code",
   "execution_count": 11,
   "id": "cb4f549a",
   "metadata": {},
   "outputs": [],
   "source": [
    "text = vectorizer.transform(df2['review_text_cleaned']).toarray()"
   ]
  },
  {
   "cell_type": "code",
   "execution_count": 12,
   "id": "aaec6ee6",
   "metadata": {},
   "outputs": [
    {
     "name": "stdout",
     "output_type": "stream",
     "text": [
      "\u001b[1m1625/1625\u001b[0m \u001b[32m━━━━━━━━━━━━━━━━━━━━\u001b[0m\u001b[37m\u001b[0m \u001b[1m1s\u001b[0m 760us/step\n"
     ]
    }
   ],
   "source": [
    "df2['subjectivity'] = (model_subj.predict(text) > 0.8).astype(\"int32\")"
   ]
  },
  {
   "cell_type": "code",
   "execution_count": 13,
   "id": "3edf0884",
   "metadata": {},
   "outputs": [
    {
     "data": {
      "text/plain": [
       "subjectivity\n",
       "1    43004\n",
       "0     8981\n",
       "Name: count, dtype: int64"
      ]
     },
     "execution_count": 13,
     "metadata": {},
     "output_type": "execute_result"
    }
   ],
   "source": [
    "df2['subjectivity'].value_counts()\n"
   ]
  },
  {
   "cell_type": "code",
   "execution_count": 14,
   "id": "2ef9ea95",
   "metadata": {},
   "outputs": [],
   "source": [
    "df2.to_json(\"full_table_clean_new2.json\", orient = \"records\", lines = True)"
   ]
  },
  {
   "cell_type": "markdown",
   "id": "73ca9d58",
   "metadata": {},
   "source": [
    "### Polarity Prediction"
   ]
  },
  {
   "cell_type": "code",
   "execution_count": 15,
   "id": "e86edb75",
   "metadata": {},
   "outputs": [],
   "source": [
    "df3 = pd.read_json(\"full_table_clean_new2.json\", lines = True)"
   ]
  },
  {
   "cell_type": "code",
   "execution_count": 19,
   "id": "c080333e",
   "metadata": {},
   "outputs": [
    {
     "data": {
      "text/plain": [
       "Index(['review_id', 'user_rating', 'review_timestamp',\n",
       "       'number_of_helpful_votes', 'verified_purchase', 'review_language',\n",
       "       'review_text_cleaned', 'review_text_original', 'review_image_url_small',\n",
       "       'review_image_url_medium', 'review_image_url_large', 'product_category',\n",
       "       'product_name', 'product_price_USD', 'product_store', 'product_brand',\n",
       "       'product_country_of_origin', 'subjectivity', 'polarity'],\n",
       "      dtype='object')"
      ]
     },
     "execution_count": 19,
     "metadata": {},
     "output_type": "execute_result"
    }
   ],
   "source": [
    "df3[\"polarity\"] = None\n",
    "df3.columns"
   ]
  },
  {
   "cell_type": "code",
   "execution_count": 21,
   "id": "43534179",
   "metadata": {},
   "outputs": [
    {
     "name": "stdout",
     "output_type": "stream",
     "text": [
      "\u001b[1m1344/1344\u001b[0m \u001b[32m━━━━━━━━━━━━━━━━━━━━\u001b[0m\u001b[37m\u001b[0m \u001b[1m1s\u001b[0m 778us/step\n"
     ]
    }
   ],
   "source": [
    "mask = df3[\"subjectivity\"] == 1\n",
    "text2 = vectorizer.transform(df3.loc[mask, 'review_text_cleaned']).toarray()\n",
    "predicted_polarity = (model_pol.predict(text2) > 0.8).astype(\"int32\").flatten()\n",
    "df3.loc[mask, \"polarity\"] = predicted_polarity\n",
    "df3.to_json(\"full_table_clean_final.json\", orient=\"records\", lines=True)\n"
   ]
  },
  {
   "cell_type": "markdown",
   "id": "2f847026",
   "metadata": {},
   "source": [
    "Check for correctness"
   ]
  },
  {
   "cell_type": "code",
   "execution_count": 24,
   "id": "7dd262ba",
   "metadata": {},
   "outputs": [
    {
     "name": "stdout",
     "output_type": "stream",
     "text": [
      "All polarity values are correctly null where subjectivity = 0.\n"
     ]
    }
   ],
   "source": [
    "df4 = pd.read_json(\"full_table_clean_final.json\", lines = True)\n",
    "\n",
    "has_invalid = ((df4['subjectivity'] == 0) & (df4['polarity'].notnull())).any()\n",
    "\n",
    "if has_invalid:\n",
    "    print(\"There are rows with subjectivity = 0 and non-null polarity.\")\n",
    "else:\n",
    "    print(\"All polarity values are correctly null where subjectivity = 0.\")\n",
    "\n",
    "\n"
   ]
  },
  {
   "cell_type": "code",
   "execution_count": 26,
   "id": "148df920",
   "metadata": {},
   "outputs": [
    {
     "name": "stdout",
     "output_type": "stream",
     "text": [
      "All polarity values are assigned where subjectivity = 1.\n"
     ]
    }
   ],
   "source": [
    "has_invalid = ((df4['subjectivity'] == 1) & (df4['polarity'].isnull())).any()\n",
    "\n",
    "if has_invalid:\n",
    "    print(\"There are rows with subjectivity = 1 and null polarity.\")\n",
    "else:\n",
    "    print(\"All polarity values are assigned where subjectivity = 1.\")"
   ]
  },
  {
   "cell_type": "code",
   "execution_count": null,
   "id": "bea7a302",
   "metadata": {},
   "outputs": [],
   "source": []
  }
 ],
 "metadata": {
  "kernelspec": {
   "display_name": "nlu_classification_env",
   "language": "python",
   "name": "python3"
  },
  "language_info": {
   "codemirror_mode": {
    "name": "ipython",
    "version": 3
   },
   "file_extension": ".py",
   "mimetype": "text/x-python",
   "name": "python",
   "nbconvert_exporter": "python",
   "pygments_lexer": "ipython3",
   "version": "3.10.11"
  }
 },
 "nbformat": 4,
 "nbformat_minor": 5
}
